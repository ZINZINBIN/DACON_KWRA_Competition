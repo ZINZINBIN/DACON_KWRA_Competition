{
 "cells": [
  {
   "cell_type": "code",
   "execution_count": null,
   "metadata": {},
   "outputs": [],
   "source": [
    "import pandas as pd\n",
    "import numpy as np\n",
    "from src.preprocessing import merge_all_data, preprocessing\n",
    "\n",
    "df = merge_all_data(\"./dataset/\")"
   ]
  },
  {
   "cell_type": "code",
   "execution_count": null,
   "metadata": {},
   "outputs": [],
   "source": []
  }
 ],
 "metadata": {
  "kernelspec": {
   "display_name": "Python 3.9.7 ('research-env': conda)",
   "language": "python",
   "name": "python3"
  },
  "language_info": {
   "name": "python",
   "version": "3.9.7"
  },
  "orig_nbformat": 4,
  "vscode": {
   "interpreter": {
    "hash": "b7bc8097f24747f72629445db54bed151603a8d63744e142002cb75630cca553"
   }
  }
 },
 "nbformat": 4,
 "nbformat_minor": 2
}
